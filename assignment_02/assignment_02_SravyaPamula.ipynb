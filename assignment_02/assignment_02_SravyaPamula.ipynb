{
  "nbformat": 4,
  "nbformat_minor": 0,
  "metadata": {
    "colab": {
      "provenance": [],
      "authorship_tag": "ABX9TyM4iPBKQsEx4EfnFdFEYbsR",
      "include_colab_link": true
    },
    "kernelspec": {
      "name": "python3",
      "display_name": "Python 3"
    },
    "language_info": {
      "name": "python"
    }
  },
  "cells": [
    {
      "cell_type": "markdown",
      "metadata": {
        "id": "view-in-github",
        "colab_type": "text"
      },
      "source": [
        "<a href=\"https://colab.research.google.com/github/Pam2020/DATA690-Statistics-Visualization/blob/main/assignment_02/assignment_02_SravyaPamula.ipynb\" target=\"_parent\"><img src=\"https://colab.research.google.com/assets/colab-badge.svg\" alt=\"Open In Colab\"/></a>"
      ]
    },
    {
      "cell_type": "markdown",
      "source": [
        "### assignment_02\n",
        "\n",
        "**Name**: Sravya Pamula\n",
        "\n",
        "**Course**: DATA 690 Statistics and Visualization"
      ],
      "metadata": {
        "id": "5df3qq1X7pYV"
      }
    },
    {
      "cell_type": "markdown",
      "source": [
        "### Question:\n",
        "\n",
        "- Prompt a user to enter 10 integers.\n",
        "- If the user enters anything other than integers, remind her that only integers are allowed and let her retry.\n",
        " **Note**: You need to detect if the user makes a mistake and let the user retry without exiting the program. The previously entered valid inputs should be kept and not lost.\n",
        "- Don't allow the user to enter more than 10 or less than 10 integers.\n",
        "Display the 10 integers back to the user at the end.\n",
        "\n"
      ],
      "metadata": {
        "id": "PRPekjDr8P4I"
      }
    },
    {
      "cell_type": "markdown",
      "source": [
        "#### We define a function sample that inputs 10 integers from the user to create the sample set. We then call that function to create a sample for descriptive statistics."
      ],
      "metadata": {
        "id": "RKyfR1_Ml57h"
      }
    },
    {
      "cell_type": "code",
      "source": [
        "1# defining a function sample that inputs 10 integers from the user to create the sample set\n",
        "def sampleset(n):\n",
        "  lst = []\n",
        "  count = 0\n",
        "  while len(lst) <n:\n",
        "    try:\n",
        "      x = int(input(\"Enter the {}th integer:\".format(count)))\n",
        "      count += 1\n",
        "      lst.append(x)\n",
        "    except:\n",
        "      print('A non-integer value entered. Please enter an integer.')\n",
        "  print(\"You entered {} numbers.\".format(len(lst), \"\\n\"))\n",
        "  print(\"The entered numbers are:\", lst)\n",
        "  return lst\n",
        "\n",
        "# calling the defined function\n",
        "sample = sampleset(10)"
      ],
      "metadata": {
        "colab": {
          "base_uri": "https://localhost:8080/"
        },
        "id": "KmXswGqX7zNV",
        "outputId": "96ff9771-f849-47a2-c78b-a5abb1f522db"
      },
      "execution_count": 6,
      "outputs": [
        {
          "output_type": "stream",
          "name": "stdout",
          "text": [
            "Enter the 0th integer:1\n",
            "Enter the 1th integer:test\n",
            "A non-integer value entered. Please enter an integer.\n",
            "Enter the 1th integer:3\n",
            "Enter the 2th integer:6\n",
            "Enter the 3th integer:8\n",
            "Enter the 4th integer:12\n",
            "Enter the 5th integer:3\n",
            "Enter the 6th integer:2\n",
            "Enter the 7th integer:4\n",
            "Enter the 8th integer:6\n",
            "Enter the 9th integer:7\n",
            "You entered 10 numbers.\n",
            "The entered numbers are: [1, 3, 6, 8, 12, 3, 2, 4, 6, 7]\n"
          ]
        }
      ]
    },
    {
      "cell_type": "markdown",
      "source": [
        "### Calculate the following statistics from the 10 integers entered and display the results back to the user:   \n",
        "\n",
        "     1. Minimum\n",
        "     2. Maximum\n",
        "     3. Range\n",
        "     4. Mean\n",
        "     5. Variance\n",
        "     6. Standard Deviation\n",
        "\n"
      ],
      "metadata": {
        "id": "kw2rMvI2_JnN"
      }
    },
    {
      "cell_type": "markdown",
      "source": [
        "#### We define functions to get the descriptive statistics."
      ],
      "metadata": {
        "id": "wFezvdRejdK1"
      }
    },
    {
      "cell_type": "code",
      "source": [
        "def minimum(lst):\n",
        "  minval = lst[0]\n",
        "  for i in lst:\n",
        "    if i < minval:\n",
        "      minval = i\n",
        "  return minval\n",
        "\n",
        "def maximum(lst):\n",
        "  maxval = lst[0]\n",
        "  for i in lst:\n",
        "    if i > maxval:\n",
        "      maxval = i\n",
        "  return maxval\n",
        "\n",
        "def range_(lst):\n",
        "  minval =  minimum(lst)\n",
        "  maxval =  maximum(lst)\n",
        "  return (maxval - minval)\n",
        "\n",
        "def mean_(lst):\n",
        "  tot = 0\n",
        "  for i in lst:\n",
        "    tot += i\n",
        "  return tot/len(lst)\n",
        "\n",
        "def variance(lst):\n",
        "  tot = 0\n",
        "  avg = mean_(lst)\n",
        "  for i in lst:\n",
        "    tot += (i - avg)**2\n",
        "  return tot/(len(lst)-1)\n",
        "\n",
        "import math\n",
        "def stdd(lst):\n",
        "  var = variance(lst)\n",
        "  return math.sqrt(var)\n",
        "\n",
        "test = [3,5,2,7,1,3]\n",
        "print(minimum(test))\n",
        "print(maximum(test))\n",
        "print(range_(test))\n",
        "print(mean_(test))\n",
        "print(variance(test))\n",
        "print(stdd(test))"
      ],
      "metadata": {
        "colab": {
          "base_uri": "https://localhost:8080/"
        },
        "id": "HF_fl_XjBNfd",
        "outputId": "16c49cca-aa0e-4713-9aa9-db3e4a5548b6"
      },
      "execution_count": 7,
      "outputs": [
        {
          "output_type": "stream",
          "name": "stdout",
          "text": [
            "1\n",
            "7\n",
            "6\n",
            "3.5\n",
            "4.7\n",
            "2.16794833886788\n"
          ]
        }
      ]
    },
    {
      "cell_type": "code",
      "source": [
        "# this is the list of numbers that the user entered\n",
        "sample"
      ],
      "metadata": {
        "colab": {
          "base_uri": "https://localhost:8080/"
        },
        "id": "2EIe3hV4-GxK",
        "outputId": "f9c42246-0d27-40ef-9fe1-2febad76438d"
      },
      "execution_count": 8,
      "outputs": [
        {
          "output_type": "execute_result",
          "data": {
            "text/plain": [
              "[1, 3, 6, 8, 12, 3, 2, 4, 6, 7]"
            ]
          },
          "metadata": {},
          "execution_count": 8
        }
      ]
    },
    {
      "cell_type": "markdown",
      "source": [
        "#### We use the above defined functions to calculate descriptive statistics."
      ],
      "metadata": {
        "id": "lbtMyUzrm7GR"
      }
    },
    {
      "cell_type": "code",
      "source": [
        "# decsriptive statistics of the given list of numbers\n",
        "print(\"Minimum value in the sample =\", minimum(sample))\n",
        "print(\"Maximum value in the sample =\",maximum(sample))\n",
        "print(\"Range of the sample =\", range_(sample))\n",
        "print(\"Sample mean = \",mean_(sample))\n",
        "print(\"Variance of the sample = \",variance(sample))\n",
        "print(\"Standard deviation of the sample = \",stdd(sample))"
      ],
      "metadata": {
        "colab": {
          "base_uri": "https://localhost:8080/"
        },
        "id": "wV37VoGmC7Tq",
        "outputId": "fa50118b-2c50-4f79-e8b7-8559f37f838b"
      },
      "execution_count": 9,
      "outputs": [
        {
          "output_type": "stream",
          "name": "stdout",
          "text": [
            "Minimum value in the sample = 1\n",
            "Maximum value in the sample = 12\n",
            "Range of the sample = 11\n",
            "Sample mean =  5.2\n",
            "Variance of the sample =  10.844444444444443\n",
            "Standard deviation of the sample =  3.2930904093942583\n"
          ]
        }
      ]
    },
    {
      "cell_type": "code",
      "source": [],
      "metadata": {
        "id": "qg72S7_dQXdq"
      },
      "execution_count": null,
      "outputs": []
    }
  ]
}