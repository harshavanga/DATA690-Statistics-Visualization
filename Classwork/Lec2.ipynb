{
  "nbformat": 4,
  "nbformat_minor": 0,
  "metadata": {
    "colab": {
      "provenance": [],
      "authorship_tag": "ABX9TyP2EdWFVr+2ZIGFDg28UsZ7",
      "include_colab_link": true
    },
    "kernelspec": {
      "name": "python3",
      "display_name": "Python 3"
    },
    "language_info": {
      "name": "python"
    }
  },
  "cells": [
    {
      "cell_type": "markdown",
      "metadata": {
        "id": "view-in-github",
        "colab_type": "text"
      },
      "source": [
        "<a href=\"https://colab.research.google.com/github/Pam2020/DATA690-Statistics-Visualization/blob/main/Classwork/Lec2.ipynb\" target=\"_parent\"><img src=\"https://colab.research.google.com/assets/colab-badge.svg\" alt=\"Open In Colab\"/></a>"
      ]
    },
    {
      "cell_type": "markdown",
      "source": [
        "## DATA 690: Session 2\n",
        "\n",
        "Date: 9/8/2022\n",
        "\n",
        "Name: Sravya P"
      ],
      "metadata": {
        "id": "eXUTpdBpcnb9"
      }
    },
    {
      "cell_type": "code",
      "source": [
        "years = \"1/11/1997 1991 1997er sravya 2000 1969 1999 1998 1993 1996 1999 1997 1996 1998 1995 1999 1999 1997 1996 1996 1997 1995 1997 1999 2000\"\n",
        "print(\"Birth years of students:\", years)"
      ],
      "metadata": {
        "colab": {
          "base_uri": "https://localhost:8080/"
        },
        "id": "nnvx5_94cwW6",
        "outputId": "68d2e5f7-b929-4aab-8ef5-d84ad7abbfdb"
      },
      "execution_count": 47,
      "outputs": [
        {
          "output_type": "stream",
          "name": "stdout",
          "text": [
            "Birth years of students: 1/11/1997 1991 1997er sravya 2000 1969 1999 1998 1993 1996 1999 1997 1996 1998 1995 1999 1999 1997 1996 1996 1997 1995 1997 1999 2000\n"
          ]
        }
      ]
    },
    {
      "cell_type": "code",
      "source": [
        "print(years.split(\" \"))\n",
        "years = years.split(\" \")"
      ],
      "metadata": {
        "colab": {
          "base_uri": "https://localhost:8080/"
        },
        "id": "kPsL2uaXdkhb",
        "outputId": "68d18a87-c81b-4f69-b18f-928bfa47b0d3"
      },
      "execution_count": 48,
      "outputs": [
        {
          "output_type": "stream",
          "name": "stdout",
          "text": [
            "['1/11/1997', '1991', '1997er', 'sravya', '2000', '1969', '1999', '1998', '1993', '1996', '1999', '1997', '1996', '1998', '1995', '1999', '1999', '1997', '1996', '1996', '1997', '1995', '1997', '1999', '2000']\n"
          ]
        }
      ]
    },
    {
      "cell_type": "code",
      "source": [
        "#years = [eval(val) for val in lst]"
      ],
      "metadata": {
        "id": "VyMLNRqqfgSn"
      },
      "execution_count": 49,
      "outputs": []
    },
    {
      "cell_type": "code",
      "source": [
        "print(years)"
      ],
      "metadata": {
        "colab": {
          "base_uri": "https://localhost:8080/"
        },
        "id": "l2C0WJ7-hDIt",
        "outputId": "f87f9ed4-e08b-4dfd-867e-3d7bb453162e"
      },
      "execution_count": 51,
      "outputs": [
        {
          "output_type": "stream",
          "name": "stdout",
          "text": [
            "['1/11/1997', '1991', '1997er', 'sravya', '2000', '1969', '1999', '1998', '1993', '1996', '1999', '1997', '1996', '1998', '1995', '1999', '1999', '1997', '1996', '1996', '1997', '1995', '1997', '1999', '2000']\n"
          ]
        }
      ]
    },
    {
      "cell_type": "code",
      "source": [
        "y = [2,-3,4,5,8,10,11]\n",
        "\n",
        "def mean(l):\n",
        "  tot = 0\n",
        "  for number in l:\n",
        "    tot += number\n",
        "  print(\"Sum of elements:\", tot)\n",
        "  print(\"Number of elements:\", len(l))\n",
        "  print(\"Mean of elements:\", tot/len(l))"
      ],
      "metadata": {
        "id": "8CxNdLjohRnB"
      },
      "execution_count": 52,
      "outputs": []
    },
    {
      "cell_type": "code",
      "source": [
        "mean(y)"
      ],
      "metadata": {
        "colab": {
          "base_uri": "https://localhost:8080/"
        },
        "id": "F9tfCpuiiSZl",
        "outputId": "62b82133-b5bf-4be1-bac9-e4698d063e23"
      },
      "execution_count": 53,
      "outputs": [
        {
          "output_type": "stream",
          "name": "stdout",
          "text": [
            "Sum of elements: 37\n",
            "Number of elements: 7\n",
            "Mean of elements: 5.285714285714286\n"
          ]
        }
      ]
    },
    {
      "cell_type": "code",
      "source": [
        "from datetime import date\n",
        "\n",
        "current_year = date.today().year\n",
        "print(current_year)\n",
        "\n",
        "tot = 0 \n",
        "count = 0\n",
        "for birth_year in years:\n",
        "  try:\n",
        "    year_int = int(birth_year)\n",
        "  except:\n",
        "    print('Non integer value found in the years list: {}'.format(birth_year))\n",
        "    count += 1\n",
        "    continue\n",
        "  age = current_year - year_int\n",
        "  tot += age\n",
        "print(\"Number of exceptions found:\", count)\n",
        "print(\"Average age of the class:\", tot/(len(years)-count))"
      ],
      "metadata": {
        "colab": {
          "base_uri": "https://localhost:8080/"
        },
        "id": "MMhvvAAgieKb",
        "outputId": "08e58da1-607c-4480-b0db-3a4a0393e0fa"
      },
      "execution_count": 54,
      "outputs": [
        {
          "output_type": "stream",
          "name": "stdout",
          "text": [
            "2022\n",
            "Non integer value found in the years list: 1/11/1997\n",
            "Non integer value found in the years list: 1997er\n",
            "Non integer value found in the years list: sravya\n",
            "Number of exceptions found: 3\n",
            "Average age of the class: 26.272727272727273\n"
          ]
        }
      ]
    },
    {
      "cell_type": "code",
      "source": [
        "count = 0\n",
        "while True:\n",
        "  if count == 3:\n",
        "    break\n",
        "  try:\n",
        "    x = int(input(\"Enter an integer:\"))\n",
        "    count += 1\n",
        "  except:\n",
        "    print(\"Non-integer entered. Please enter an integer.\")"
      ],
      "metadata": {
        "colab": {
          "base_uri": "https://localhost:8080/"
        },
        "id": "Ll5cAMBosDmr",
        "outputId": "5ad5f0ee-4fa2-456c-ffb9-07c8e3817740"
      },
      "execution_count": 59,
      "outputs": [
        {
          "name": "stdout",
          "output_type": "stream",
          "text": [
            "Enter an integer:5\n",
            "Enter an integer:6\n",
            "Enter an integer:sravya\n",
            "Non-integer entered. Please enter an integer.\n",
            "Enter an integer:10\n"
          ]
        }
      ]
    },
    {
      "cell_type": "code",
      "source": [],
      "metadata": {
        "id": "H5EGBqIL01Kl"
      },
      "execution_count": null,
      "outputs": []
    }
  ]
}