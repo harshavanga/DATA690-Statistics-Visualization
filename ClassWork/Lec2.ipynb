{
  "nbformat": 4,
  "nbformat_minor": 0,
  "metadata": {
    "colab": {
      "provenance": [],
      "authorship_tag": "ABX9TyOYMLYfCiA+H0WwXsNd+BdJ",
      "include_colab_link": true
    },
    "kernelspec": {
      "name": "python3",
      "display_name": "Python 3"
    },
    "language_info": {
      "name": "python"
    }
  },
  "cells": [
    {
      "cell_type": "markdown",
      "metadata": {
        "id": "view-in-github",
        "colab_type": "text"
      },
      "source": [
        "<a href=\"https://colab.research.google.com/github/Pam2020/DATA690-Statistics-Visualization/blob/main/ClassWork/Lec2.ipynb\" target=\"_parent\"><img src=\"https://colab.research.google.com/assets/colab-badge.svg\" alt=\"Open In Colab\"/></a>"
      ]
    },
    {
      "cell_type": "markdown",
      "source": [
        "## DATA 690: Session 2\n",
        "\n",
        "Date: 9/8/2022\n",
        "\n",
        "Name: Sravya P"
      ],
      "metadata": {
        "id": "eXUTpdBpcnb9"
      }
    },
    {
      "cell_type": "code",
      "source": [
        "years = \"1991 2000 1969 1999 1998 1993 1996 1999 1997 1996 1998 1995 1999 1999 1997 1996 1996 1997 1995 1997 1999 2000\"\n",
        "print(\"Birth years of students:\", years)"
      ],
      "metadata": {
        "colab": {
          "base_uri": "https://localhost:8080/"
        },
        "id": "nnvx5_94cwW6",
        "outputId": "43c43aae-9d78-475e-cb3d-7ca40d7fb199"
      },
      "execution_count": 3,
      "outputs": [
        {
          "output_type": "stream",
          "name": "stdout",
          "text": [
            "Birth years of students: 1991 2000 1969 1999 1998 1993 1996 1999 1997 1996 1998 1995 1999 1999 1997 1996 1996 1997 1995 1997 1999 2000\n"
          ]
        }
      ]
    },
    {
      "cell_type": "code",
      "source": [
        "print(years.split(\" \"))\n",
        "lst = years.split(\" \")"
      ],
      "metadata": {
        "colab": {
          "base_uri": "https://localhost:8080/"
        },
        "id": "kPsL2uaXdkhb",
        "outputId": "b94d2591-5f4a-4b32-ebb8-f284b463fe89"
      },
      "execution_count": 10,
      "outputs": [
        {
          "output_type": "stream",
          "name": "stdout",
          "text": [
            "['1991', '2000', '1969', '1999', '1998', '1993', '1996', '1999', '1997', '1996', '1998', '1995', '1999', '1999', '1997', '1996', '1996', '1997', '1995', '1997', '1999', '2000']\n"
          ]
        }
      ]
    },
    {
      "cell_type": "code",
      "source": [
        "years = [eval(val) for val in lst]"
      ],
      "metadata": {
        "id": "VyMLNRqqfgSn"
      },
      "execution_count": 11,
      "outputs": []
    },
    {
      "cell_type": "code",
      "source": [
        "print(years)"
      ],
      "metadata": {
        "colab": {
          "base_uri": "https://localhost:8080/"
        },
        "id": "l2C0WJ7-hDIt",
        "outputId": "95b4e571-599f-4921-eb16-5e1bc46b55d9"
      },
      "execution_count": 13,
      "outputs": [
        {
          "output_type": "stream",
          "name": "stdout",
          "text": [
            "[1991, 2000, 1969, 1999, 1998, 1993, 1996, 1999, 1997, 1996, 1998, 1995, 1999, 1999, 1997, 1996, 1996, 1997, 1995, 1997, 1999, 2000]\n"
          ]
        }
      ]
    },
    {
      "cell_type": "code",
      "source": [
        "y = [2,-3,4,5,8,10,11]\n",
        "\n",
        "def mean(l):\n",
        "  tot = 0\n",
        "  for number in l:\n",
        "    tot += number\n",
        "  print(\"Sum of elements:\", tot)\n",
        "  print(\"Number of elements:\", len(l))\n",
        "  print(\"Mean of elements:\", tot/len(l))"
      ],
      "metadata": {
        "id": "8CxNdLjohRnB"
      },
      "execution_count": 17,
      "outputs": []
    },
    {
      "cell_type": "code",
      "source": [
        "mean(years)\n"
      ],
      "metadata": {
        "colab": {
          "base_uri": "https://localhost:8080/"
        },
        "id": "F9tfCpuiiSZl",
        "outputId": "1c966ca6-1aeb-43e2-c5d8-05412f24d092"
      },
      "execution_count": 20,
      "outputs": [
        {
          "output_type": "stream",
          "name": "stdout",
          "text": [
            "Sum of elements: 43906\n",
            "Number of elements: 22\n",
            "Mean of elements: 1995.7272727272727\n",
            "Sum of elements: 37\n",
            "Number of elements: 7\n",
            "Mean of elements: 5.285714285714286\n"
          ]
        }
      ]
    },
    {
      "cell_type": "code",
      "source": [
        "from datetime import date\n",
        "\n",
        "current_year = date.today().year\n",
        "print(current_year)\n",
        "\n",
        "tot = 0 \n",
        "for birth_year in years:\n",
        "  age = current_year - birth_year\n",
        "  tot += age\n",
        "print(\"Average age of the class:\", tot/len(years))"
      ],
      "metadata": {
        "colab": {
          "base_uri": "https://localhost:8080/"
        },
        "id": "MMhvvAAgieKb",
        "outputId": "7057fefc-2366-4564-a2f5-a802f53cc67b"
      },
      "execution_count": 19,
      "outputs": [
        {
          "output_type": "stream",
          "name": "stdout",
          "text": [
            "2022\n",
            "Average age of the class: 26.272727272727273\n"
          ]
        }
      ]
    },
    {
      "cell_type": "code",
      "source": [
        "x = 10\n",
        "y = 20\n",
        "z = 30\n",
        "\n",
        "def dividebyten(n):\n",
        "  return n/10\n",
        "dividebyten(x)"
      ],
      "metadata": {
        "colab": {
          "base_uri": "https://localhost:8080/"
        },
        "id": "OXwLGmgLmxRS",
        "outputId": "53f24eda-78fa-46d8-9067-291f8e430674"
      },
      "execution_count": 28,
      "outputs": [
        {
          "output_type": "execute_result",
          "data": {
            "text/plain": [
              "1.0"
            ]
          },
          "metadata": {},
          "execution_count": 28
        }
      ]
    },
    {
      "cell_type": "code",
      "source": [],
      "metadata": {
        "id": "Ll5cAMBosDmr"
      },
      "execution_count": null,
      "outputs": []
    }
  ]
}