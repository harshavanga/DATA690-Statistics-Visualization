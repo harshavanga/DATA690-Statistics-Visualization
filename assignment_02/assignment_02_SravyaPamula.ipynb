{
  "nbformat": 4,
  "nbformat_minor": 0,
  "metadata": {
    "colab": {
      "provenance": [],
      "authorship_tag": "ABX9TyNyO3WKjtGH4St0xxq8ZR8u",
      "include_colab_link": true
    },
    "kernelspec": {
      "name": "python3",
      "display_name": "Python 3"
    },
    "language_info": {
      "name": "python"
    }
  },
  "cells": [
    {
      "cell_type": "markdown",
      "metadata": {
        "id": "view-in-github",
        "colab_type": "text"
      },
      "source": [
        "<a href=\"https://colab.research.google.com/github/Pam2020/DATA690-Statistics-Visualization/blob/main/assignment_02/assignment_02_SravyaPamula.ipynb\" target=\"_parent\"><img src=\"https://colab.research.google.com/assets/colab-badge.svg\" alt=\"Open In Colab\"/></a>"
      ]
    },
    {
      "cell_type": "markdown",
      "source": [
        "### assignment_02\n",
        "\n",
        "**Name**: Sravya Pamula\n",
        "\n",
        "**Course**: DATA 690 Statistics and Visualization"
      ],
      "metadata": {
        "id": "5df3qq1X7pYV"
      }
    },
    {
      "cell_type": "markdown",
      "source": [
        "Question:\n",
        "\n",
        "- Prompt a user to enter 10 integers.\n",
        "- If the user enters anything other than integers, remind her that only integers are allowed and let her retry.\n",
        " **Note**: You need to detect if the user makes a mistake and let the user retry without exiting the program. The previously entered valid inputs should be kept and not lost.\n",
        "- Don't allow the user to enter more than 10 or less than 10 integers.\n",
        "Display the 10 integers back to the user at the end.\n",
        "\n"
      ],
      "metadata": {
        "id": "PRPekjDr8P4I"
      }
    },
    {
      "cell_type": "code",
      "source": [
        "# defining a function sample that inputs 10 integers from the user to create the sample set\n",
        "def sampleset(n):\n",
        "  lst = []\n",
        "  for i in range(n):\n",
        "    try:\n",
        "      x = int(input(\"Enter the {}th integer:\".format(i)))\n",
        "      lst.append(x)\n",
        "    except:\n",
        "      print('A non-integer value entered. Please enter an integer.')\n",
        "  print(\"The entered numbers are:\", lst)\n",
        "  return lst\n",
        "\n",
        "# calling the defined function\n",
        "sample = sampleset(10)"
      ],
      "metadata": {
        "colab": {
          "base_uri": "https://localhost:8080/"
        },
        "id": "KmXswGqX7zNV",
        "outputId": "88be51cc-feac-4963-de8f-689cda0454ff"
      },
      "execution_count": 4,
      "outputs": [
        {
          "output_type": "stream",
          "name": "stdout",
          "text": [
            "Enter the 0th integer:2\n",
            "Enter the 1th integer:34\n",
            "Enter the 2th integer:5\n",
            "Enter the 3th integer:21\n",
            "Enter the 4th integer:23\n",
            "Enter the 5th integer:8\n",
            "Enter the 6th integer:19\n",
            "Enter the 7th integer:sravya\n",
            "A non-integer value entered. Please enter an integer.\n",
            "Enter the 8th integer:20\n",
            "Enter the 9th integer:13\n",
            "The entered numbers are: [2, 34, 5, 21, 23, 8, 19, 20, 13]\n"
          ]
        }
      ]
    },
    {
      "cell_type": "markdown",
      "source": [
        "- Calculate the following statistics from the 10 integers entered and display the results back to the user:   \n",
        "\n",
        "     1. Minimum\n",
        "     2. Maximum\n",
        "     3. Range\n",
        "     4. Mean\n",
        "     5. Variance\n",
        "     6. Standard Deviation"
      ],
      "metadata": {
        "id": "kw2rMvI2_JnN"
      }
    },
    {
      "cell_type": "code",
      "source": [
        "sample"
      ],
      "metadata": {
        "colab": {
          "base_uri": "https://localhost:8080/"
        },
        "id": "2EIe3hV4-GxK",
        "outputId": "b6ae0253-a0a8-4d3e-f8bb-3ddc1e59108e"
      },
      "execution_count": 5,
      "outputs": [
        {
          "output_type": "execute_result",
          "data": {
            "text/plain": [
              "[2, 34, 5, 21, 23, 8, 19, 20, 13]"
            ]
          },
          "metadata": {},
          "execution_count": 5
        }
      ]
    },
    {
      "cell_type": "code",
      "source": [
        "def minimum(lst):\n",
        "  minval = lst[0]\n",
        "  for i in lst:\n",
        "    if i < minval:\n",
        "      minval = i\n",
        "  return minval\n",
        "\n",
        "def maximum(lst):\n",
        "  maxval = lst[0]\n",
        "  for i in lst:\n",
        "    if i > maxval:\n",
        "      maxval = i\n",
        "  return maxval\n",
        "\n",
        "def range_(lst):\n",
        "  minval =  minimum(lst)\n",
        "  maxval =  maximum(lst)\n",
        "  return (maxval - minval)\n",
        "\n",
        "def mean_(lst):\n",
        "  tot = 0\n",
        "  for i in lst:\n",
        "    tot += i\n",
        "  return tot/len(lst)\n",
        "\n",
        "def variance(lst):\n",
        "  tot = 0\n",
        "  avg = mean_(lst)\n",
        "  for i in lst:\n",
        "    tot += (i - avg)**2\n",
        "  return tot/(len(lst)-1)\n",
        "\n",
        "import math\n",
        "def stdd(lst):\n",
        "  var = variance(lst)\n",
        "  return math.sqrt(var)\n",
        "\n",
        "test = [3,5,2,7,1,3]\n",
        "print(minimum(test))\n",
        "print(maximum(test))\n",
        "print(range_(test))\n",
        "print(mean_(test))\n",
        "print(variance(test))\n",
        "print(stdd(test))"
      ],
      "metadata": {
        "colab": {
          "base_uri": "https://localhost:8080/"
        },
        "id": "HF_fl_XjBNfd",
        "outputId": "06b1aac7-40ca-4151-ce0d-236f0dbfdff7"
      },
      "execution_count": 4,
      "outputs": [
        {
          "output_type": "stream",
          "name": "stdout",
          "text": [
            "1\n",
            "7\n",
            "6\n",
            "3.5\n",
            "4.7\n",
            "2.16794833886788\n"
          ]
        }
      ]
    },
    {
      "cell_type": "code",
      "source": [],
      "metadata": {
        "id": "wV37VoGmC7Tq"
      },
      "execution_count": null,
      "outputs": []
    }
  ]
}